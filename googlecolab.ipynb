{
  "nbformat": 4,
  "nbformat_minor": 0,
  "metadata": {
    "colab": {
      "name": "RedditImposterBot.ipynb",
      "provenance": [],
      "collapsed_sections": []
    },
    "kernelspec": {
      "name": "python3",
      "display_name": "Python 3"
    }
  },
  "cells": [
    {
      "cell_type": "code",
      "metadata": {
        "id": "u7cmxgwdkewi",
        "colab_type": "code",
        "colab": {
          "base_uri": "https://localhost:8080/",
          "height": 476
        },
        "outputId": "9921a3ee-a9aa-4068-e215-b145d585edc4"
      },
      "source": [
        "!pip install selenium\n",
        "!apt-get update # to update ubuntu to correctly run apt install\n",
        "!apt install chromium-chromedriver\n",
        "!cp /usr/lib/chromium-browser/chromedriver /usr/bin\n",
        "import sys\n",
        "sys.path.insert(0,'/usr/lib/chromium-browser/chromedriver')\n",
        "#\n",
        "# Need to assign an answer first\n",
        "#\n",
        "from selenium import webdriver\n",
        "from selenium.webdriver.chrome.options import Options\n",
        "import random\n",
        "import time\n",
        "\n",
        "options = Options()\n",
        "options.add_argument(\"--headless\")\n",
        "options.add_argument(\"--disable-dev-shm-usage\")\n",
        "options.add_argument('--no-sandbox')\n",
        "\n",
        "driver = webdriver.Chrome('chromedriver', chrome_options=options)\n",
        "driver.get('https://gremlins-api.reddit.com/room?nightmode=1')\n",
        "\n",
        "print(\"Enter Reddit Username\")\n",
        "usr = input()\n",
        "\n",
        "print(\"Enter Reddit Password\")\n",
        "password = input()\n",
        "\n",
        "# Log in user\n",
        "driver.find_element_by_id(\"loginUsername\").send_keys(usr)\n",
        "driver.find_element_by_id(\"loginPassword\").send_keys(password)\n",
        "time.sleep(2)\n",
        "driver.find_element_by_class_name(\"AnimatedForm__submitButton\").click()\n",
        "time.sleep(6)\n",
        "print(\"NOTE: IF YOU HAVEN'T SELECTED AN ANSWER TO THE QUESTION IT GONNA BUG FAM\")\n",
        "print(\"Logged in!\")\n",
        "\n",
        "try:\n",
        "    while True:\n",
        "        res = driver.find_elements_by_xpath(\"//gremlin-note\")\n",
        "        random.choice(res).click()\n",
        "        time.sleep(6)\n",
        "        driver.find_elements_by_xpath(\"//gremlin-action\")[0].click()\n",
        "        time.sleep(5)\n",
        "\n",
        "except KeyboardInterrupt:\n",
        "    print(\"Exiting please wait...\")\n",
        "    driver.quit()"
      ],
      "execution_count": null,
      "outputs": []
    }
  ]
}